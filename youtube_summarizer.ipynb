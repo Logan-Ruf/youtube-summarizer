{
 "cells": [
  {
   "cell_type": "code",
   "execution_count": 51,
   "outputs": [],
   "source": [
    "import openai\n",
    "import os\n",
    "openai.organization = os.environ.get(\"OPENAI_ORG\", None)\n",
    "openai.api_key = os.environ.get(\"OPENAI_KEY\", None)\n",
    "\n",
    "if openai.api_key is None:\n",
    "    raise ValueError(\"OpenAI API key not found. Please set the OPENAI_KEY environment variable.\")"
   ],
   "metadata": {
    "collapsed": false,
    "ExecuteTime": {
     "start_time": "2023-04-08T11:55:04.883166Z",
     "end_time": "2023-04-08T11:55:04.892453Z"
    }
   }
  },
  {
   "cell_type": "code",
   "execution_count": 35,
   "outputs": [],
   "source": [
    "import urllib.parse\n",
    "import requests\n",
    "from bs4 import BeautifulSoup\n",
    "import json\n",
    "import re\n",
    "from youtube_transcript_api import YouTubeTranscriptApi\n",
    "import tiktoken\n",
    "\n",
    "\n",
    "\n",
    "class YoutubeScraper:\n",
    "    \"\"\"\n",
    "    A class to scrape YouTube video metadata.\n",
    "    This gets the video title, description, chapters, and transcript.\n",
    "\n",
    "    ...\n",
    "    Attributes\n",
    "    ----------\n",
    "    url : str\n",
    "        The YouTube video URL\n",
    "    \"\"\"\n",
    "\n",
    "    def __init__(self, url):\n",
    "        self.url = url\n",
    "        self.video_key = self.extract_video_key(url)\n",
    "        self.data = None\n",
    "\n",
    "    def get_video_info(self):\n",
    "        headers = {\n",
    "            'User-Agent': 'Mozilla/5.0 (Windows NT 10.0; Win64; x64; rv:89.0) Gecko/20100101 Firefox/89.0'\n",
    "        }\n",
    "\n",
    "        response = requests.get(self.url, headers=headers)\n",
    "        soup = BeautifulSoup(response.text, 'html.parser')\n",
    "\n",
    "        try:\n",
    "            script = soup.find('script', string=lambda x: x and 'var ytInitialPlayerResponse' in x)\n",
    "            if not script:\n",
    "                raise ValueError('Failed to find ytInitialPlayerResponse in the page source.')\n",
    "\n",
    "            json_str = re.search(r'var ytInitialPlayerResponse = ({.*?});', script.string).group(1)\n",
    "            data = json.loads(json_str)\n",
    "            video_details = data.get('videoDetails', {})\n",
    "\n",
    "            title = video_details.get('title')\n",
    "            description = video_details.get('shortDescription')\n",
    "\n",
    "            script = soup.find('script', string=lambda x: x and 'var ytInitialData' in x)\n",
    "            if not script:\n",
    "                raise ValueError('Failed to find ytInitialData in the page source.')\n",
    "\n",
    "            json_str = re.search(r'var ytInitialData = ({.*?});', script.string).group(1)\n",
    "            yt_initial_data = json.loads(json_str)\n",
    "\n",
    "            chapters = {}\n",
    "            engagement_panels = yt_initial_data.get('engagementPanels', [])\n",
    "            for panel in engagement_panels:\n",
    "                contents = panel.get('engagementPanelSectionListRenderer', {}).get('content', {}).get(\n",
    "                    'macroMarkersListRenderer', {}).get('contents', [])\n",
    "                for content in contents:\n",
    "                    timestamp = content.get('macroMarkersListItemRenderer', {}).get('timeDescription', {}).get(\n",
    "                        'simpleText')\n",
    "                    chapter_title = content.get('macroMarkersListItemRenderer', {}).get('title', {}).get('simpleText')\n",
    "                    if timestamp is not None and chapter_title is not None:\n",
    "                        chapters[timestamp] = chapter_title\n",
    "\n",
    "            self.data = {\n",
    "                'title': title,\n",
    "                'description': description,\n",
    "                'chapters': chapters,\n",
    "                'transcripts': YouTubeTranscriptApi.get_transcript(self.video_key)\n",
    "            }\n",
    "            return self\n",
    "\n",
    "        except Exception as e:\n",
    "            print(f\"Error: {str(e)}\")\n",
    "            return None\n",
    "\n",
    "    def get_data(self):\n",
    "        return self.data\n",
    "\n",
    "    def __str__(self):\n",
    "        return str(self.url)\n",
    "\n",
    "    @staticmethod\n",
    "    def extract_video_key(url):\n",
    "        parsed_url = urllib.parse.urlparse(url)\n",
    "        query_params = urllib.parse.parse_qs(parsed_url.query)\n",
    "        video_key = query_params.get('v', [None])[0]\n",
    "        return video_key"
   ],
   "metadata": {
    "collapsed": false
   }
  },
  {
   "cell_type": "code",
   "execution_count": 36,
   "outputs": [],
   "source": [
    "class YouTubeInfo:\n",
    "    def __init__(self, video_url, ignore_chapters=False):\n",
    "        self.transcripts = None\n",
    "        self.title = None\n",
    "        self.description = None\n",
    "        self.chapters = None\n",
    "        self.segments = None\n",
    "        self.video_url = video_url\n",
    "        self.ignore_chapters = ignore_chapters\n",
    "\n",
    "    @staticmethod\n",
    "    def seconds_to_timestamp(seconds):\n",
    "        seconds = round(float(seconds))\n",
    "        h, remainder = divmod(seconds, 3600)\n",
    "        m, s = divmod(remainder, 60)\n",
    "        return f\"{h:02d}:{m:02d}:{s:02d}\"\n",
    "\n",
    "    @staticmethod\n",
    "    def time_to_seconds(time_str):\n",
    "        time_parts = list(map(int, time_str.split(':')))\n",
    "        if len(time_parts) == 3:\n",
    "            h, m, s = time_parts\n",
    "        elif len(time_parts) == 2:\n",
    "            h = 0\n",
    "            m, s = time_parts\n",
    "        else:\n",
    "            raise ValueError(f\"Invalid time format: {time_str}\")\n",
    "        return h * 3600 + m * 60 + s\n",
    "\n",
    "\n",
    "    def get_video_info(self):\n",
    "        from YoutubeScraper import YoutubeScraper\n",
    "        data = YoutubeScraper(self.video_url).get_video_info().get_data()\n",
    "        self.transcripts = data['transcripts']\n",
    "        self.title = data['title']\n",
    "        self.description = data['description']\n",
    "        if bool(data['chapters']) and not self.ignore_chapters:\n",
    "            self.chapters = data['chapters']\n",
    "        else:\n",
    "            self.chapters = None\n",
    "        return self\n",
    "\n",
    "    def group_transcripts_by_chapters(self):\n",
    "        chapters = sorted([(self.time_to_seconds(k), v) for k, v in self.chapters.items()])\n",
    "        grouped_transcripts = [{\"title\": c, \"time\": k, \"segments\": []} for k, c in chapters]\n",
    "\n",
    "        for segment in self.transcripts:\n",
    "            start_time = segment['start']\n",
    "\n",
    "            for i, chapter in enumerate(grouped_transcripts):\n",
    "                chapter_start = chapter[\"time\"]\n",
    "                if i + 1 < len(grouped_transcripts) and chapter_start <= start_time < grouped_transcripts[i + 1][\"time\"]:\n",
    "                    chapter[\"segments\"].append(segment)\n",
    "                    break\n",
    "                elif i + 1 == len(grouped_transcripts) and start_time >= chapter_start:\n",
    "                    chapter[\"segments\"].append(segment)\n",
    "                    break\n",
    "\n",
    "        return grouped_transcripts\n",
    "\n",
    "\n",
    "    def json(self):\n",
    "        return {\n",
    "            'title': self.title,\n",
    "            'description': self.description,\n",
    "            'chapters': self.chapters,\n",
    "            'transcripts': self.transcripts\n",
    "        }\n",
    "\n",
    "    def __repr__(self):\n",
    "        return str(self.json())\n",
    "\n",
    "    def __str__(self):\n",
    "        return str(self.title)\n",
    "\n",
    "    def __dict__(self):\n",
    "        return self.json()\n",
    "\n",
    "    def __len__(self):\n",
    "        return len(self.transcripts)"
   ],
   "metadata": {
    "collapsed": false
   }
  },
  {
   "cell_type": "code",
   "execution_count": 46,
   "outputs": [],
   "source": [
    "class TranscriptSummarizer:\n",
    "    \"\"\"\n",
    "    Takes in transcripts and summarizes them with the OpenAi API.\n",
    "    :param video_url: The url of the video to summarize\n",
    "    :param ignore_chapters: If True, the chapters will be ignored and video will be summarized as a whole.\n",
    "    \"\"\"\n",
    "    def __init__(self, video_url, ignore_chapters=False):\n",
    "        self.yt_info = YouTubeInfo(video_url, ignore_chapters).get_video_info()\n",
    "        self.encoding = tiktoken.get_encoding(\"p50k_base\")\n",
    "        self.processed_chapters = self.process_chapters()\n",
    "        self.DEFAULT_PROMPT = '\\nWrite a summary of this transcript using markdown formatting.\\n\\n## {}\\n'\n",
    "        self.CONT_PROMPT = 'Continue writing your summary of this transcript. This is where you left off:\\n{}'\n",
    "        self.MAX_TOKENS = 4000\n",
    "        self.RESPONSE_TOKENS = 500\n",
    "        self.PROMPT_TOKENS = len(self.encoding.encode(self.DEFAULT_PROMPT))\n",
    "        self.BUFFER_TOKENS = 100\n",
    "        self.MAX_CONTENT_TOKENS = self.MAX_TOKENS - self.PROMPT_TOKENS - self.BUFFER_TOKENS - self.RESPONSE_TOKENS\n",
    "        self.AI_MODEL = 'text-davinci-003'\n",
    "        self.summary = None\n",
    "\n",
    "    def process_chapters(self):\n",
    "        if self.yt_info.chapters:\n",
    "            processed_chapters = self.yt_info.group_transcripts_by_chapters()\n",
    "        else:\n",
    "            processed_chapters = [{\"title\": \"Full Summary\", \"time\": 0, \"segments\": self.yt_info.transcripts}]\n",
    "        return processed_chapters\n",
    "\n",
    "    def calculate_content_segments(self, content):\n",
    "        from math import ceil\n",
    "        content_tokens = len(self.encoding.encode(content))\n",
    "        return ceil(content_tokens / self.MAX_CONTENT_TOKENS), content_tokens\n",
    "\n",
    "    def format_content_segments(self, segments):\n",
    "        return ''.join([f'[{YouTubeInfo.seconds_to_timestamp(s[\"start\"])}]{s[\"text\"]}' for s in segments])\n",
    "\n",
    "    def split_array(self, array, n_chunks):\n",
    "        chunk_size = len(array) // n_chunks\n",
    "        remainder = len(array) % n_chunks\n",
    "        result = []\n",
    "        index = 0\n",
    "\n",
    "        for i in range(n_chunks):\n",
    "            size = chunk_size + (1 if i < remainder else 0)\n",
    "            result.append(array[index:index + size])\n",
    "            index += size\n",
    "\n",
    "        return result\n",
    "\n",
    "    def call_openai_api(self, prompt, temperature):\n",
    "        return openai.Completion.create(\n",
    "            model=self.AI_MODEL,\n",
    "            prompt=prompt,\n",
    "            temperature=temperature,\n",
    "            max_tokens=self.RESPONSE_TOKENS,\n",
    "            top_p=1,\n",
    "            frequency_penalty=0,\n",
    "            presence_penalty=0\n",
    "        )\n",
    "\n",
    "    def split_summary(self, summary, max_length):\n",
    "        summary_parts = []\n",
    "        while len(summary) > max_length:\n",
    "            split_point = summary[:max_length].rfind('\\n')\n",
    "            summary_parts.append(summary[:split_point])\n",
    "            summary = summary[split_point:]\n",
    "        summary_parts.append(summary)\n",
    "        return summary_parts\n",
    "\n",
    "    def summarize(self):\n",
    "        for chapter in self.processed_chapters:\n",
    "            initial_process = self.format_content_segments(chapter['segments'])\n",
    "            segments, initial_tokens = self.calculate_content_segments(initial_process)\n",
    "            print(f'{chapter[\"title\"]} | {initial_tokens = } | {segments = }')\n",
    "            if segments == 1:\n",
    "                chapter['processed_segments'] = [initial_process]\n",
    "            else:\n",
    "                secondary_segments = self.split_array(chapter['segments'], segments)\n",
    "                chapter['processed_segments'] = [self.format_content_segments(s) for s in secondary_segments]\n",
    "\n",
    "            chapter_title = chapter['title']\n",
    "            chapter_segments = chapter['processed_segments']\n",
    "            chapter['summary'] = ''\n",
    "            chapter['responses'] = []\n",
    "            for i, segment in enumerate(chapter_segments):\n",
    "                if i == 0:\n",
    "                    full_segment = segment + self.DEFAULT_PROMPT.format(chapter_title)\n",
    "                else:\n",
    "                    full_segment = segment + self.CONT_PROMPT.format(chapter['summary'][-3 * self.BUFFER_TOKENS])\n",
    "                # ChatGPT Note: Create a wrapper for calling the OpenAI API\n",
    "                response = self.call_openai_api(\n",
    "                    prompt=full_segment,\n",
    "                    temperature=0.3,\n",
    "                )\n",
    "                chapter['responses'].append(response)\n",
    "                chapter['summary'] += response.choices[0].text\n",
    "                reduction_percent = round(100.00 - response.usage.completion_tokens / response.usage.prompt_tokens * 100, 2)\n",
    "                print(f'{chapter_title} | {i + 1}/{len(chapter_segments)} | {reduction_percent}%')\n",
    "\n",
    "        first_summary = f'# {self.yt_info.title}\\n\\n## Chapters\\n'\n",
    "        for chapter in self.processed_chapters:\n",
    "            first_summary += f'### {chapter[\"title\"]}\\n'\n",
    "            first_summary += chapter['summary']\n",
    "            first_summary += '\\n\\n'\n",
    "\n",
    "        summary_parts = self.split_summary(first_summary, self.MAX_CONTENT_TOKENS)\n",
    "        self.summary = ''\n",
    "        for i, summary_part in enumerate(summary_parts):\n",
    "            if i == 0:\n",
    "                prompt = summary_part + '\\n Write an executive summary of this outline using markdown formatting.\\n\\n'\n",
    "            else:\n",
    "                prompt = summary_part + '\\n Continue writing your executive summary of this outline. This is where you left off:\\n\\n' + \\\n",
    "                self.summary[-3 * self.BUFFER_TOKENS:]\n",
    "\n",
    "            response = self.call_openai_api(\n",
    "                prompt=prompt,\n",
    "                temperature=0.5,\n",
    "            )\n",
    "            self.summary += response.choices[0].text\n",
    "\n",
    "        return self\n",
    "\n",
    "    def generate_markdown_output(self):\n",
    "        md_output = f'# {self.yt_info.title}\\n'\n",
    "        md_output += f'## Executive Summary\\n{self.summary}\\n\\n## Chapters\\n'\n",
    "        for chapter in self.processed_chapters:\n",
    "            md_output += f'### {chapter[\"title\"]}\\n'\n",
    "            md_output += chapter['summary']\n",
    "            md_output += '\\n\\n'\n",
    "        return md_output\n",
    "\n",
    "    def generate_html_output(self):\n",
    "        html_output = f'<h1>{self.yt_info.title}</h1>'\n",
    "        html_output += f'<h2>Executive Summary</h2><p>{self.summary}</p><h2>Chapters</h2>'\n",
    "        for chapter in self.processed_chapters:\n",
    "            html_output += f'<h3>{chapter[\"title\"]}</h3>'\n",
    "            html_output += chapter['summary']\n",
    "            html_output += '<hr />'\n",
    "        return html_output\n",
    "\n",
    "    def render_markdown(self):\n",
    "        from IPython.display import display, Markdown\n",
    "        return display(Markdown(self.generate_markdown_output()))\n",
    "\n",
    "    def render_html(self):\n",
    "        from IPython.display import display, HTML\n",
    "        return display(HTML(self.generate_html_output()))\n"
   ],
   "metadata": {
    "collapsed": false,
    "ExecuteTime": {
     "start_time": "2023-04-08T11:33:12.606739Z",
     "end_time": "2023-04-08T11:33:12.612115Z"
    }
   }
  },
  {
   "cell_type": "code",
   "execution_count": null,
   "outputs": [],
   "source": [
    "summarizer = TranscriptSummarizer('https://www.youtube.com/watch?v=oDAMPYfK4p8')\n",
    "summarizer.summarize()"
   ],
   "metadata": {
    "collapsed": false
   }
  },
  {
   "cell_type": "code",
   "execution_count": 32,
   "outputs": [
    {
     "data": {
      "text/markdown": "# Why Are Animals Symmetrical?\n## Executive Summary\nBilaterians are a large group of animals that share the trait of bilateral symmetry. This trait is inherited from a common ancestor and is shared by more than 95% of all land animals. They have a body plan consisting of a tube with two openings and complex sensory organs that give them an advantage over non-bilaterians. This allows them to move quickly and precisely, and is why they are the only animals that have conquered dry land. Additionally, their two-sided symmetry allows them to push from both sides of the body with equal force, giving them an advantage over non-bilaterians.\n\nCephalization is the process by which sensory organs have become concentrated at one end of an animal, leading to the development of a brain and well-defined head section. This has occurred in groups such as vertebrates, cephalopods, and arthropods. While bilateral symmetry is the most common body plan in the animal kingdom, there are examples of animals that have broken away from this pattern due to selective pressures. These include cross-bill birds, fish like plaice, and some species of male crab.\n\nIn conclusion, bilateral symmetry is a common body plan among animals, but exceptions are known to exist. This demonstrates that selective pressures can lead to animals adapting to different body plans in order to survive. Despite the differences, animals still share many similar features, such as the cephalization process which has allowed for the development of a brain in many species.\n\n## Chapters\n### Intro\nAnimals come in all shapes and sizes, but they all share one common trait: bilateral symmetry. This trait is shared by more than 95% of all land animals, and is inherited from a common ancestor hundreds of millions of years ago. This group of animals is known as bilaterans.\n\n## Summary\nBilaterans are a large group of animals that share the trait of bilateral symmetry, which is the mirroring of the left and right sides of the body. This trait is inherited from a common ancestor and is shared by more than 95% of all land animals.\n\n### Types of Symmetry\n\nAnimals typically have two-sided symmetry, but some animals have a different type of symmetry, such as radial symmetry, and some animals have no symmetry at all. Nidarians, such as jellyfish, sea anemones, and coral, have radial symmetry and a type of cell called a nidosite that lets them deliver a sting. Sponges have no symmetry and their shape is determined by which side of the sponge is receiving more nutrients. In the Ediacaran period, over 540 million years ago, some creatures had different forms of symmetry. Fossils of an ancient organism called Chania were found in England and a whole fossilized ecosystem of these organisms was discovered on the east coast of Canada, named the Avalon Explosion. These organisms, called rangiomorphs, looked like leaves but lived too deep in the ocean to be able to photosynthesize.\n\n### Ancient Animals\nThe Ediacaran period (555 million years ago) is known for its strange and unique organisms, such as stem animals and fractal organisms. Towards the end of the period, bilaterians (organisms with bilateral symmetry) began to appear in the fossil record. This included Spraguina, which looked like a trilobite, and Kimberella, which was thought to have lived like a slug. There was also a small worm-like animal called Ikario Warayutia, which was about the size of a grain of rice and burrowed into the sands of the ancient Australian seabed.\n\n### Bilateral Animals\nBilateral animals, which evolved during the Ediacaran period, were initially outnumbered by animals with radial symmetry or other forms of symmetry. However, during the Cambrian explosion, bilaterans became much more successful and are now the most common type of animal. This is likely due to the evolution of certain traits which opened up other evolutionary pathways and gave them an advantage over other animals.\n\n### Body Plan\nBilaterians have a body plan consisting of a tube with two openings, a mouth and an anus, connected by a digestive tract. Sensory organs have developed at the head end above the mouth, giving them a defined front end and the ability to move purposefully towards stimuli. This gives them an advantage over non-bilaterians, who mostly use lures or drift through the ocean waiting for food. Box jellyfish are an exception, actively hunting fish, but they are slower than bilaterians.\n\n### Movement\nBilaterians have complex sensory organs and purposeful precise movements, which helps them move faster and more efficiently than non-bilaterians. This is due to their two-sided symmetry, which allows them to push from both sides of the body with equal force. This is why bilaterians are the only animals that have conquered dry land, as a good stable body shape is more important when out of the water.\n\n### Cephalization\nCephalization is the process where sensory organs have become more concentrated at one end of an animal over time. This process has led to the development of a brain and a well-defined head section in different animal groups such as vertebrates, cephalopods, and arthropods. Although symmetry offers many advantages, there are times when animals have evolved to break their symmetry. Examples of this include cross-bill birds, which have a beak that doesn't meet in the middle to help them access pine cone seeds, fish like plaice which orientate their body on its side to hide on the sea floor, and some species of male crab which have one claw larger than the other.\n\n### Conclusion\nBilateral symmetry is a common body plan among animals, but there are exceptions. Starfish and sea urchins, for example, appear to be radial life forms, but are actually bilaterians. This shows that selective pressures can lead to animals adapting to different body plans in order to survive. Despite the differences, animals still share a lot of similarities.\n\n"
     },
     "metadata": {},
     "output_type": "display_data"
    }
   ],
   "source": [
    "from IPython.display import display, Markdown, display_markdown\n",
    "display_markdown(summarizer.generate_markdown_output(), raw=True)\n"
   ],
   "metadata": {
    "collapsed": false
   }
  },
  {
   "cell_type": "code",
   "execution_count": null,
   "outputs": [],
   "source": [
    "summarizer = TranscriptSummarizer('https://www.youtube.com/watch?v=oDAMPYfK4p8', ignore_chapters=True)"
   ],
   "metadata": {
    "collapsed": false
   }
  },
  {
   "cell_type": "code",
   "execution_count": 39,
   "outputs": [
    {
     "name": "stdout",
     "output_type": "stream",
     "text": [
      "Full Summary | initial_tokens = 4156 | segments = 2\n",
      "Full Summary | 1/2 | 90.09%\n",
      "Full Summary | 2/2 | 77.46%\n"
     ]
    },
    {
     "data": {
      "text/plain": "<__main__.TranscriptSummarizer at 0x7f90289bcd60>"
     },
     "execution_count": 39,
     "metadata": {},
     "output_type": "execute_result"
    }
   ],
   "source": [
    "summarizer.summarize()"
   ],
   "metadata": {
    "collapsed": false
   }
  },
  {
   "cell_type": "code",
   "execution_count": 41,
   "outputs": [
    {
     "name": "stdout",
     "output_type": "stream",
     "text": [
      "# Why Are Animals Symmetrical?\n",
      "## Executive Summary\n",
      "\n",
      "Animals come in all shapes and sizes, but the vast majority share one trait: bilateral symmetry. This means that their left and right sides form a mirror image of one another. This type of symmetry is a result of an ancient common ancestor and is found in more than 95% of known land animals. Outside of this group are sponges, which have no symmetry and the nidarians, which have radial symmetry. During the Ediacaran period, some creatures had different forms of symmetry, and the bilaterians became much more successful during the Cambrian explosion. This is likely due to the structure of the bilaterian body and lifestyle, which enabled certain evolutionary pathways. The bilateral body plan offers advantages such as purposeful movement, a platform for pushing forward in a straight line, and a well-defined head section and brain. There are some animals that have broken the trend of two-sided symmetry, but for the most part, bilateral body plans have been incredibly successful.\n",
      "\n",
      "## Chapters\n",
      "### Full Summary\n",
      "Animals range drastically in size, shape, and biology, but they all share one thing: bilateral symmetry. This type of symmetry, where the left and right sides of the body are mirror images of each other, is found in more than 95% of all known land animals and is a result of an incredibly ancient common ancestor. Outside of the bilaterian group are the nidarians, which have radial symmetry and include jellyfish, sea anemones, and coral. Sponges have no symmetry at all and are multiple-celled organisms. During the Ediacaran period, some creatures had different forms of symmetry, including fractal symmetries. The Ediacaran was also home to the earliest bilaterians, such as Spraguina and Kimberella. During the Cambrian explosion, the bilaterians became much more successful and today they are by far the most common type of animal. This is likely due to the structure of the bilaterian body and lifestyle, which makes certain evolutionary pathways more likely. bilateral body plan has encouraged the evolution of other traits down the line that have given them an advantage over animals with other forms of symmetry. In its simplest form, the body plan of a bilaterian is a tube with two openings, a mouth and an anus, connected by a digestive tract. Over time, sensory organs have developed at the head end above the mouth, giving them a body plan with a defined front end that allows for purposeful movement. This gives them a big advantage over non-bilaterians, who mostly use lures or drift through the ocean waiting for food to come to them. Additionally, two-sided symmetry is a good shape for moving, as it offers a platform to have an equal set of limbs or fins on both sides of the body, allowing them to propel forward in a straight line and with more stability. This may also be the reason why bilaterians are the only animals that have conquered dry land, as gravity only becomes less forgiving and a stable body shape becomes more important. Bilateral body plans have also caused these animals to become more intelligent, as the sensory organs have trended to become more concentrated at one end of the animal over time, creating a well-defined head section and sophisticated brain in multiple bilateral groups. Although symmetry offers many advantages, there are times it can get in the way of a specific lifestyle, as there are many examples of animals that have evolved to break their symmetry. For example, crossbill birds have a beak that doesn't meet in the middle, and some species of fish like plaice have made the extreme adaptation of orientating their entire body on its side. Additionally, some species of male crab have one claw larger than the other, which can sometimes be so large that it makes up half of their body weight. Although these animals are still largely bilateral, they have the odd feature that breaks the trend of the rest of the body. Starfish and sea urchins may look like radial life, but they are actually bilaterians. At the larvae stage, these animals have a clearly defined head, although as adults they appear radial. Having two-sided symmetry isn't always the best way to survive for every animal, but the bilateral body plan shows that we are often more similar to even the most distantly related animals than we may think.\n",
      "\n",
      "\n"
     ]
    }
   ],
   "source": [
    "print(summarizer.generate_markdown_output())"
   ],
   "metadata": {
    "collapsed": false
   }
  },
  {
   "cell_type": "code",
   "execution_count": 208,
   "outputs": [
    {
     "name": "stdout",
     "output_type": "stream",
     "text": [
      "Sam Altman: OpenAI CEO on GPT-4, ChatGPT, and the Future of AI | Lex Fridman Podcast #367\n",
      "{'0:00': 'Introduction', '4:36': 'GPT-4', '16:02': 'Political bias', '23:03': 'AI safety', '43:43': 'Neural network size', '47:36': 'AGI', '1:09:05': 'Fear', '1:11:14': 'Competition', '1:13:33': 'From non-profit to capped-profit', '1:16:54': 'Power', '1:22:06': 'Elon Musk', '1:30:32': 'Political pressure', '1:48:46': 'Truth and misinformation', '2:01:09': 'Microsoft', '2:05:09': 'SVB bank collapse', '2:10:00': 'Anthropomorphism', '2:14:03': 'Future applications', '2:17:54': 'Advice for young people', '2:20:33': 'Meaning of life'}\n"
     ]
    }
   ],
   "source": [
    "lex_and_sam = YouTubeInfo('https://www.youtube.com/watch?v=L_Guz73e6fw').get_video_info()\n",
    "print(lex_and_sam)\n",
    "print(lex_and_sam.chapters)"
   ],
   "metadata": {
    "collapsed": false
   }
  },
  {
   "cell_type": "code",
   "execution_count": 210,
   "outputs": [
    {
     "name": "stdout",
     "output_type": "stream",
     "text": [
      "This game has a dark secret lurking underneath...\n",
      "{}\n"
     ]
    }
   ],
   "source": [
    "jack = YouTubeInfo('https://www.youtube.com/watch?v=RY7GDivnc0k').get_video_info()\n",
    "print(jack)\n",
    "print(jack.chapters)"
   ],
   "metadata": {
    "collapsed": false
   }
  },
  {
   "cell_type": "code",
   "execution_count": 42,
   "outputs": [
    {
     "name": "stdout",
     "output_type": "stream",
     "text": [
      "Intro | initial_tokens = 276 | segments = 1\n",
      "Intro | 1/1 | 53.24%\n",
      "Types of Symmetry | initial_tokens = 783 | segments = 1\n",
      "Types of Symmetry | 1/1 | 87.94%\n",
      "Ancient Animals | initial_tokens = 656 | segments = 1\n",
      "Ancient Animals | 1/1 | 80.86%\n",
      "Bilateral Animals | initial_tokens = 445 | segments = 1\n",
      "Bilateral Animals | 1/1 | 81.03%\n",
      "Body Plan | initial_tokens = 370 | segments = 1\n",
      "Body Plan | 1/1 | 74.23%\n",
      "Movement | initial_tokens = 365 | segments = 1\n",
      "Movement | 1/1 | 71.99%\n",
      "Cephalization | initial_tokens = 807 | segments = 1\n",
      "Cephalization | 1/1 | 74.73%\n",
      "Conclusion | initial_tokens = 454 | segments = 1\n",
      "Conclusion | 1/1 | 78.56%\n",
      "# Why Are Animals Symmetrical?\n",
      "## Executive Summary\n",
      "Bilaterians are animals that have two-sided symmetry, which is the most common type of symmetry found in animals. This symmetry is believed to have been inherited from a common ancestor hundreds of millions of years ago. Bilateral symmetry allows for a more stable body shape, which is beneficial for movement and conquering dry land. Additionally, it allows for the development of more complex sensory organs and purposeful movement. Bilateral animals are by far the most common type of animals, and their success can be attributed to their body plan and movement capabilities. The trend of cephalization, where sensory organs and nerves become concentrated on one side of the body, has allowed for the development of brains and heads which have enabled animals to interact with their environment in more complex ways. However, some animals have broken away from bilateral symmetry in order to adapt to different lifestyles. Examples of this include cross-bill birds which have beaks that don’t meet in the middle, plaice which can orientate their entire body on its side, and male crabs with one claw that is larger than the other. Despite the advantages of symmetry, it is not always the best way to survive. \n",
      "\n",
      "In conclusion, symmetry is a common trait among animals, but some have adapted to break away from the traditional bilateral body plan to survive in different environments. This demonstrates that the evolutionary process can lead to animals adapting to their environment in different ways, even if they are distantly related.\n",
      "\n",
      "## Chapters\n",
      "### Intro\n",
      "Animals come in a variety of sizes, shapes, and biological makeups, but there is one thing that unifies more than 95% of them: bilateral symmetry. This symmetry is something that almost all land animals inherited from an ancient common ancestor hundreds of millions of years ago. \n",
      "\n",
      "## Bilateral Symmetry\n",
      "Squid, insects, reptiles, and mammals may be very different, but they are all connected by their bilateral symmetry, where they have a left and a right side which are mirror images of each other. This group of animals is known as the bilaterans and is one of the largest categorizations used to label a group in the entire animal kingdom.\n",
      "\n",
      "### Types of Symmetry\n",
      "Animals have two types of symmetry: bilateral and radial. Bilateral symmetry is the most common and is seen in most animals, while radial symmetry is seen in cnidarians like jellyfish and coral. Sponges have no symmetry at all. In the Ediacaran period (540 million years ago), rangiomorphs were discovered with an unusual leaf-like symmetry. These organisms lived too deep in the ocean to photosynthesize, so they were not plants.\n",
      "\n",
      "### Ancient Animals\n",
      "The Ediacaran period was a time of strange and unique organisms, many of which are still a mystery to scientists today. Most of these organisms grew in a symmetrical fractal pattern, which is unlike anything alive today. Towards the end of the period, bilateral animals started to appear in the fossil record, such as Spraguina, which looked like a trilobite, and Kimberella, a small slug-like creature. There was also a small worm-like creature called Ikario Warayutia. All of these animals lived in the ancient Australian seabed, and their relationships to other animals are still unknown.\n",
      "\n",
      "### Bilateral Animals\n",
      "Bilateral animals evolved during the Ediacaran period, but they were outnumbered by animals with radial symmetry or other forms of symmetry. During the Cambrian explosion, bilaterans became much more successful with many new forms appearing. Today, they are by far the most common type of animal. The two-sided symmetry of bilaterians has encouraged the evolution of other traits that have given them an advantage over animals with other forms of symmetry.\n",
      "\n",
      "### Body Plan\n",
      "The body plan of a bilaterian is a tube with two openings, a mouth and an anus, connected by a digestive tract. Sensory organs have developed at the head end above the mouth, giving them a defined front end and allowing for purposeful movement. This gives them an advantage over non-bilaterians, which mostly use lures or drift through the ocean waiting for food. While there are some non-bilateral animals that actively hunt, they are generally slower and less common.\n",
      "\n",
      "### Movement\n",
      "Bilaterians have complex sensory organs at the top of their head and purposeful, precise movements. They also have two-sided symmetry, which is a good shape for moving as it offers a platform to have an equal set of limbs or fins on both sides of the body to propel forward in a straight line, offering more stability and efficiency than non-bilaterians. This may be why bilaterians are the only animals that have conquered dry land, as gravity becomes less forgiving and a good stable body shape becomes more important.\n",
      "\n",
      "### Cephalization\n",
      "\n",
      "Cephalization is the phenomena where the sensory organs have trended to become more concentrated at one end of the animal over time, and is correlated with the nerves being concentrated on one side of the body as well. This has led to the development of a brain and a well-defined head section in many different animal groups, such as vertebrates, cephalopods, and even arthropods. \n",
      "\n",
      "## Breaking Symmetry\n",
      "\n",
      "Although symmetry offers many advantages, there are times it can get in the way of a specific lifestyle. Examples of animals that have evolved to break their symmetry include cross-bill birds, which have a beak that doesn't meet in the middle, and species of fish like plaice, which have adapted to orientate their entire body on its side. Male crabs have also evolved to have one claw larger than the other, which can sometimes be so large that it makes up half of their body weight. This large claw is used to attract females and fight off rival males.\n",
      "\n",
      "### Conclusion\n",
      "Bilateral symmetry is a common feature among animals, however, some animals have evolved to have a radial body plan. Starfish and sea urchins, also known as echinoderms, are examples of animals that have adapted to this radial life form. Despite appearing radial, studies have shown that these animals have a preferred direction of travel. This shows that bilateral symmetry is not always the best way to survive for every animal, but it does demonstrate the similarities between even the most distantly related animals.\n",
      "\n",
      "\n"
     ]
    }
   ],
   "source": [
    "animals_v_two = TranscriptSummarizer('https://www.youtube.com/watch?v=oDAMPYfK4p8').summarize()\n",
    "print(animals_v_two.generate_markdown_output())"
   ],
   "metadata": {
    "collapsed": false,
    "ExecuteTime": {
     "start_time": "2023-04-08T11:26:16.439474Z",
     "end_time": "2023-04-08T11:26:55.641813Z"
    }
   }
  },
  {
   "cell_type": "code",
   "execution_count": 44,
   "outputs": [
    {
     "name": "stdout",
     "output_type": "stream",
     "text": [
      "Full Summary | initial_tokens = 4156 | segments = 2\n",
      "Full Summary | 1/2 | 89.19%\n",
      "Full Summary | 2/2 | 84.33%\n",
      "# Why Are Animals Symmetrical?\n",
      "## Executive Summary\n",
      "\n",
      "Animals come in all shapes and sizes, but they all share one trait in common: bilateral symmetry. This type of symmetry, where the left and right sides are mirror images of each other, is found in more than 95% of known land animals and is part of the largest categorization of animals, the bilaterians. Bilateral symmetry has enabled animals to evolve traits that have given them an advantage over other animals with other forms of symmetry, such as increased mobility and intelligence. Bilateral symmetry isn't always the best way to survive for every animal, but it shows how similar we are to even the most distantly related animals.\n",
      "\n",
      "## Chapters\n",
      "### Full Summary\n",
      "Animals range drastically in size, shape, and biology, but they all share one common trait: bilateral symmetry. This type of symmetry, where the left and right sides are mirror images of each other, is found in more than 95% of known land animals, and is part of the largest categorization of animals, known as the bilaterians. Outside of this group are the nidarians, which have radial symmetry and are united by a type of cell called a nidosite. Sponges have no symmetry at all. During the Ediacaran period, 540 million years ago, some creatures took on different forms of symmetry, such as the rangiomorphs, which grew in fractals. Towards the end of the period, the earliest bilateral animals in the fossil record, such as spraguina and kimberella, began to appear. During the Cambrian explosion, the bilaterans became much more successful and today they are by far the most common type of animal. The structure of the bilaterian body and lifestyle has made the evolution of certain traits, such as the production of silk, more likely. Bilateral symmetry has enabled animals to evolve traits that have given them an advantage over other animals with other forms of symmetry. The body plan of a bilaterian is a tube with two openings, a mouth and an anus connected by a digestive tract. Sensory organs have developed at the head end above the mouth, giving them a clear direction of travel. This body shape enables for purposeful movement, which gives them an advantage over non-bilaterians. Additionally, two-sided symmetry is a good shape for moving, as it offers a platform to have an equal set of limbs or fins on both sides of the body. This would have helped them move faster and more efficiently than non-bilaterians. Bilateral body plans have also caused these animals to become more intelligent, as the sensory organs have trended to become more concentrated at one end of the animal over time, which correlates with the nerves being concentrated on one side of the body as well. There are times when symmetry can get in the way of a specific lifestyle, as there are many examples of animals that have evolved to break their symmetry. Additionally, some species of male crab have one claw larger than the other, which can sometimes be so large that it makes up half of their body weight. Starfish and sea urchins may look like radial life, but they are actually bilaterians. At the larvae stage, these animals have a clearly defined head, although as adults they appear radial. Bilateral symmetry isn't always the best way to survive for every animal, but it shows how similar we are to even the most distantly related animals.\n",
      "\n",
      "\n"
     ]
    }
   ],
   "source": [
    "animals_v_two_no_chapters = TranscriptSummarizer('https://www.youtube.com/watch?v=oDAMPYfK4p8', ignore_chapters=True).summarize()\n",
    "print(animals_v_two_no_chapters.generate_markdown_output())"
   ],
   "metadata": {
    "collapsed": false,
    "ExecuteTime": {
     "start_time": "2023-04-08T11:28:00.989900Z",
     "end_time": "2023-04-08T11:28:22.498537Z"
    }
   }
  }
 ],
 "metadata": {
  "kernelspec": {
   "display_name": "Python 3",
   "language": "python",
   "name": "python3"
  },
  "language_info": {
   "codemirror_mode": {
    "name": "ipython",
    "version": 2
   },
   "file_extension": ".py",
   "mimetype": "text/x-python",
   "name": "python",
   "nbconvert_exporter": "python",
   "pygments_lexer": "ipython2",
   "version": "2.7.6"
  }
 },
 "nbformat": 4,
 "nbformat_minor": 0
}
